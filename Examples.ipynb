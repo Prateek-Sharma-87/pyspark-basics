{
 "cells": [
  {
   "attachments": {},
   "cell_type": "markdown",
   "metadata": {},
   "source": [
    "# Importing Relevant Libraries"
   ]
  },
  {
   "cell_type": "code",
   "execution_count": 1,
   "metadata": {},
   "outputs": [],
   "source": [
    "import pyspark\n",
    "from pyspark.sql import SparkSession\n",
    "from pyspark.sql import functions as F"
   ]
  },
  {
   "attachments": {},
   "cell_type": "markdown",
   "metadata": {},
   "source": [
    "# Creating a Spark Session"
   ]
  },
  {
   "cell_type": "code",
   "execution_count": 2,
   "metadata": {},
   "outputs": [],
   "source": [
    "spark = SparkSession.builder.getOrCreate()\n",
    "\n",
    "# Example Dataframe\n",
    "# df = spark.sql(\"select 'spark' as hello \")\n",
    "# df.show()"
   ]
  },
  {
   "attachments": {},
   "cell_type": "markdown",
   "metadata": {},
   "source": [
    "# Reading a CSV File with Headers"
   ]
  },
  {
   "cell_type": "code",
   "execution_count": 3,
   "metadata": {},
   "outputs": [
    {
     "name": "stdout",
     "output_type": "stream",
     "text": [
      "+----------+--------------------+--------+----------+-----------+------+-------+--------------+--------------------+---------------+--------------+--------------------+---------+---------------+--------------+---------------+---+-----------+------------+-----------------+--------------------+----------------+------------------+-----------------+-----------+---------------+---------------+\n",
      "|product_id|        product_name|brand_id|brand_name|loves_count|rating|reviews|          size|      variation_type|variation_value|variation_desc|         ingredients|price_usd|value_price_usd|sale_price_usd|limited_edition|new|online_only|out_of_stock|sephora_exclusive|          highlights|primary_category|secondary_category|tertiary_category|child_count|child_max_price|child_min_price|\n",
      "+----------+--------------------+--------+----------+-----------+------+-------+--------------+--------------------+---------------+--------------+--------------------+---------+---------------+--------------+---------------+---+-----------+------------+-----------------+--------------------+----------------+------------------+-----------------+-----------+---------------+---------------+\n",
      "|   P473671|Fragrance Discove...|    6342|     19-69|       6320|3.6364|     11|          null|                null|           null|          null|['Capri Eau de Pa...|       35|           null|          null|              0|  0|          1|           0|                0|['Unisex/ Genderl...|       Fragrance| Value & Gift Sets|Perfume Gift Sets|          0|           null|           null|\n",
      "|   P473668|La Habana Eau de ...|    6342|     19-69|       3827|4.1538|     13|3.4 oz/ 100 mL|Size + Concentrat...| 3.4 oz/ 100 mL|          null|['Alcohol Denat. ...|      195|           null|          null|              0|  0|          1|           0|                0|['Unisex/ Genderl...|       Fragrance|             Women|          Perfume|          2|             85|             30|\n",
      "|   P473662|Rainbow Bar Eau d...|    6342|     19-69|       3253|  4.25|     16|3.4 oz/ 100 mL|Size + Concentrat...| 3.4 oz/ 100 mL|          null|['Alcohol Denat. ...|      195|           null|          null|              0|  0|          1|           0|                0|['Unisex/ Genderl...|       Fragrance|             Women|          Perfume|          2|             75|             30|\n",
      "|   P473660|Kasbah Eau de Parfum|    6342|     19-69|       3018|4.4762|     21|3.4 oz/ 100 mL|Size + Concentrat...| 3.4 oz/ 100 mL|          null|['Alcohol Denat. ...|      195|           null|          null|              0|  0|          1|           0|                0|['Unisex/ Genderl...|       Fragrance|             Women|          Perfume|          2|             75|             30|\n",
      "|   P473658|Purple Haze Eau d...|    6342|     19-69|       2691|3.2308|     13|3.4 oz/ 100 mL|Size + Concentrat...| 3.4 oz/ 100 mL|          null|['Alcohol Denat. ...|      195|           null|          null|              0|  0|          1|           0|                0|['Unisex/ Genderl...|       Fragrance|             Women|          Perfume|          2|             75|             30|\n",
      "+----------+--------------------+--------+----------+-----------+------+-------+--------------+--------------------+---------------+--------------+--------------------+---------+---------------+--------------+---------------+---+-----------+------------+-----------------+--------------------+----------------+------------------+-----------------+-----------+---------------+---------------+\n",
      "only showing top 5 rows\n",
      "\n"
     ]
    }
   ],
   "source": [
    "df = spark.read.format(\"csv\").option(\"header\", \"true\").load(\"product_info_sephora.csv\")\n",
    "\n",
    "#### Alternate Method\n",
    "# df = spark.read.option(\"header\", \"true\").csv(\"product_info_sephora.csv\")\n",
    "\n",
    "df.show(5)"
   ]
  },
  {
   "attachments": {},
   "cell_type": "markdown",
   "metadata": {},
   "source": [
    "# Dataframe (DF) View in Pandas"
   ]
  },
  {
   "cell_type": "code",
   "execution_count": 4,
   "metadata": {},
   "outputs": [
    {
     "data": {
      "text/html": [
       "<div>\n",
       "<style scoped>\n",
       "    .dataframe tbody tr th:only-of-type {\n",
       "        vertical-align: middle;\n",
       "    }\n",
       "\n",
       "    .dataframe tbody tr th {\n",
       "        vertical-align: top;\n",
       "    }\n",
       "\n",
       "    .dataframe thead th {\n",
       "        text-align: right;\n",
       "    }\n",
       "</style>\n",
       "<table border=\"1\" class=\"dataframe\">\n",
       "  <thead>\n",
       "    <tr style=\"text-align: right;\">\n",
       "      <th></th>\n",
       "      <th>product_id</th>\n",
       "      <th>product_name</th>\n",
       "      <th>brand_id</th>\n",
       "      <th>brand_name</th>\n",
       "      <th>loves_count</th>\n",
       "      <th>rating</th>\n",
       "      <th>reviews</th>\n",
       "      <th>size</th>\n",
       "      <th>variation_type</th>\n",
       "      <th>variation_value</th>\n",
       "      <th>...</th>\n",
       "      <th>online_only</th>\n",
       "      <th>out_of_stock</th>\n",
       "      <th>sephora_exclusive</th>\n",
       "      <th>highlights</th>\n",
       "      <th>primary_category</th>\n",
       "      <th>secondary_category</th>\n",
       "      <th>tertiary_category</th>\n",
       "      <th>child_count</th>\n",
       "      <th>child_max_price</th>\n",
       "      <th>child_min_price</th>\n",
       "    </tr>\n",
       "  </thead>\n",
       "  <tbody>\n",
       "    <tr>\n",
       "      <th>0</th>\n",
       "      <td>P473671</td>\n",
       "      <td>Fragrance Discovery Set</td>\n",
       "      <td>6342</td>\n",
       "      <td>19-69</td>\n",
       "      <td>6320</td>\n",
       "      <td>3.6364</td>\n",
       "      <td>11</td>\n",
       "      <td>None</td>\n",
       "      <td>None</td>\n",
       "      <td>None</td>\n",
       "      <td>...</td>\n",
       "      <td>1</td>\n",
       "      <td>0</td>\n",
       "      <td>0</td>\n",
       "      <td>['Unisex/ Genderless Scent', 'Warm &amp;Spicy Scen...</td>\n",
       "      <td>Fragrance</td>\n",
       "      <td>Value &amp; Gift Sets</td>\n",
       "      <td>Perfume Gift Sets</td>\n",
       "      <td>0</td>\n",
       "      <td>None</td>\n",
       "      <td>None</td>\n",
       "    </tr>\n",
       "    <tr>\n",
       "      <th>1</th>\n",
       "      <td>P473668</td>\n",
       "      <td>La Habana Eau de Parfum</td>\n",
       "      <td>6342</td>\n",
       "      <td>19-69</td>\n",
       "      <td>3827</td>\n",
       "      <td>4.1538</td>\n",
       "      <td>13</td>\n",
       "      <td>3.4 oz/ 100 mL</td>\n",
       "      <td>Size + Concentration + Formulation</td>\n",
       "      <td>3.4 oz/ 100 mL</td>\n",
       "      <td>...</td>\n",
       "      <td>1</td>\n",
       "      <td>0</td>\n",
       "      <td>0</td>\n",
       "      <td>['Unisex/ Genderless Scent', 'Layerable Scent'...</td>\n",
       "      <td>Fragrance</td>\n",
       "      <td>Women</td>\n",
       "      <td>Perfume</td>\n",
       "      <td>2</td>\n",
       "      <td>85</td>\n",
       "      <td>30</td>\n",
       "    </tr>\n",
       "    <tr>\n",
       "      <th>2</th>\n",
       "      <td>P473662</td>\n",
       "      <td>Rainbow Bar Eau de Parfum</td>\n",
       "      <td>6342</td>\n",
       "      <td>19-69</td>\n",
       "      <td>3253</td>\n",
       "      <td>4.25</td>\n",
       "      <td>16</td>\n",
       "      <td>3.4 oz/ 100 mL</td>\n",
       "      <td>Size + Concentration + Formulation</td>\n",
       "      <td>3.4 oz/ 100 mL</td>\n",
       "      <td>...</td>\n",
       "      <td>1</td>\n",
       "      <td>0</td>\n",
       "      <td>0</td>\n",
       "      <td>['Unisex/ Genderless Scent', 'Layerable Scent'...</td>\n",
       "      <td>Fragrance</td>\n",
       "      <td>Women</td>\n",
       "      <td>Perfume</td>\n",
       "      <td>2</td>\n",
       "      <td>75</td>\n",
       "      <td>30</td>\n",
       "    </tr>\n",
       "    <tr>\n",
       "      <th>3</th>\n",
       "      <td>P473660</td>\n",
       "      <td>Kasbah Eau de Parfum</td>\n",
       "      <td>6342</td>\n",
       "      <td>19-69</td>\n",
       "      <td>3018</td>\n",
       "      <td>4.4762</td>\n",
       "      <td>21</td>\n",
       "      <td>3.4 oz/ 100 mL</td>\n",
       "      <td>Size + Concentration + Formulation</td>\n",
       "      <td>3.4 oz/ 100 mL</td>\n",
       "      <td>...</td>\n",
       "      <td>1</td>\n",
       "      <td>0</td>\n",
       "      <td>0</td>\n",
       "      <td>['Unisex/ Genderless Scent', 'Layerable Scent'...</td>\n",
       "      <td>Fragrance</td>\n",
       "      <td>Women</td>\n",
       "      <td>Perfume</td>\n",
       "      <td>2</td>\n",
       "      <td>75</td>\n",
       "      <td>30</td>\n",
       "    </tr>\n",
       "    <tr>\n",
       "      <th>4</th>\n",
       "      <td>P473658</td>\n",
       "      <td>Purple Haze Eau de Parfum</td>\n",
       "      <td>6342</td>\n",
       "      <td>19-69</td>\n",
       "      <td>2691</td>\n",
       "      <td>3.2308</td>\n",
       "      <td>13</td>\n",
       "      <td>3.4 oz/ 100 mL</td>\n",
       "      <td>Size + Concentration + Formulation</td>\n",
       "      <td>3.4 oz/ 100 mL</td>\n",
       "      <td>...</td>\n",
       "      <td>1</td>\n",
       "      <td>0</td>\n",
       "      <td>0</td>\n",
       "      <td>['Unisex/ Genderless Scent', 'Layerable Scent'...</td>\n",
       "      <td>Fragrance</td>\n",
       "      <td>Women</td>\n",
       "      <td>Perfume</td>\n",
       "      <td>2</td>\n",
       "      <td>75</td>\n",
       "      <td>30</td>\n",
       "    </tr>\n",
       "  </tbody>\n",
       "</table>\n",
       "<p>5 rows × 27 columns</p>\n",
       "</div>"
      ],
      "text/plain": [
       "  product_id               product_name brand_id brand_name loves_count  \\\n",
       "0    P473671    Fragrance Discovery Set     6342      19-69        6320   \n",
       "1    P473668    La Habana Eau de Parfum     6342      19-69        3827   \n",
       "2    P473662  Rainbow Bar Eau de Parfum     6342      19-69        3253   \n",
       "3    P473660       Kasbah Eau de Parfum     6342      19-69        3018   \n",
       "4    P473658  Purple Haze Eau de Parfum     6342      19-69        2691   \n",
       "\n",
       "   rating reviews            size                      variation_type  \\\n",
       "0  3.6364      11            None                                None   \n",
       "1  4.1538      13  3.4 oz/ 100 mL  Size + Concentration + Formulation   \n",
       "2    4.25      16  3.4 oz/ 100 mL  Size + Concentration + Formulation   \n",
       "3  4.4762      21  3.4 oz/ 100 mL  Size + Concentration + Formulation   \n",
       "4  3.2308      13  3.4 oz/ 100 mL  Size + Concentration + Formulation   \n",
       "\n",
       "  variation_value  ... online_only out_of_stock sephora_exclusive  \\\n",
       "0            None  ...           1            0                 0   \n",
       "1  3.4 oz/ 100 mL  ...           1            0                 0   \n",
       "2  3.4 oz/ 100 mL  ...           1            0                 0   \n",
       "3  3.4 oz/ 100 mL  ...           1            0                 0   \n",
       "4  3.4 oz/ 100 mL  ...           1            0                 0   \n",
       "\n",
       "                                          highlights primary_category  \\\n",
       "0  ['Unisex/ Genderless Scent', 'Warm &Spicy Scen...        Fragrance   \n",
       "1  ['Unisex/ Genderless Scent', 'Layerable Scent'...        Fragrance   \n",
       "2  ['Unisex/ Genderless Scent', 'Layerable Scent'...        Fragrance   \n",
       "3  ['Unisex/ Genderless Scent', 'Layerable Scent'...        Fragrance   \n",
       "4  ['Unisex/ Genderless Scent', 'Layerable Scent'...        Fragrance   \n",
       "\n",
       "  secondary_category  tertiary_category child_count child_max_price  \\\n",
       "0  Value & Gift Sets  Perfume Gift Sets           0            None   \n",
       "1              Women            Perfume           2              85   \n",
       "2              Women            Perfume           2              75   \n",
       "3              Women            Perfume           2              75   \n",
       "4              Women            Perfume           2              75   \n",
       "\n",
       "  child_min_price  \n",
       "0            None  \n",
       "1              30  \n",
       "2              30  \n",
       "3              30  \n",
       "4              30  \n",
       "\n",
       "[5 rows x 27 columns]"
      ]
     },
     "execution_count": 4,
     "metadata": {},
     "output_type": "execute_result"
    }
   ],
   "source": [
    "#### Only 5 Rows\n",
    "df.limit(5).toPandas()"
   ]
  },
  {
   "attachments": {},
   "cell_type": "markdown",
   "metadata": {},
   "source": [
    "# Row Count"
   ]
  },
  {
   "cell_type": "code",
   "execution_count": 5,
   "metadata": {},
   "outputs": [
    {
     "data": {
      "text/plain": [
       "8495"
      ]
     },
     "execution_count": 5,
     "metadata": {},
     "output_type": "execute_result"
    }
   ],
   "source": [
    "df.count()"
   ]
  },
  {
   "attachments": {},
   "cell_type": "markdown",
   "metadata": {},
   "source": [
    "# Column Count"
   ]
  },
  {
   "cell_type": "code",
   "execution_count": 6,
   "metadata": {},
   "outputs": [
    {
     "data": {
      "text/plain": [
       "27"
      ]
     },
     "execution_count": 6,
     "metadata": {},
     "output_type": "execute_result"
    }
   ],
   "source": [
    "len(df.columns)"
   ]
  },
  {
   "attachments": {},
   "cell_type": "markdown",
   "metadata": {},
   "source": [
    "# List of columns"
   ]
  },
  {
   "cell_type": "code",
   "execution_count": 7,
   "metadata": {},
   "outputs": [
    {
     "data": {
      "text/plain": [
       "['product_id',\n",
       " 'product_name',\n",
       " 'brand_id',\n",
       " 'brand_name',\n",
       " 'loves_count',\n",
       " 'rating',\n",
       " 'reviews',\n",
       " 'size',\n",
       " 'variation_type',\n",
       " 'variation_value',\n",
       " 'variation_desc',\n",
       " 'ingredients',\n",
       " 'price_usd',\n",
       " 'value_price_usd',\n",
       " 'sale_price_usd',\n",
       " 'limited_edition',\n",
       " 'new',\n",
       " 'online_only',\n",
       " 'out_of_stock',\n",
       " 'sephora_exclusive',\n",
       " 'highlights',\n",
       " 'primary_category',\n",
       " 'secondary_category',\n",
       " 'tertiary_category',\n",
       " 'child_count',\n",
       " 'child_max_price',\n",
       " 'child_min_price']"
      ]
     },
     "execution_count": 7,
     "metadata": {},
     "output_type": "execute_result"
    }
   ],
   "source": [
    "df.columns"
   ]
  },
  {
   "attachments": {},
   "cell_type": "markdown",
   "metadata": {},
   "source": [
    "# Filtering dataframe based on a column"
   ]
  },
  {
   "cell_type": "code",
   "execution_count": 8,
   "metadata": {},
   "outputs": [
    {
     "data": {
      "text/html": [
       "<div>\n",
       "<style scoped>\n",
       "    .dataframe tbody tr th:only-of-type {\n",
       "        vertical-align: middle;\n",
       "    }\n",
       "\n",
       "    .dataframe tbody tr th {\n",
       "        vertical-align: top;\n",
       "    }\n",
       "\n",
       "    .dataframe thead th {\n",
       "        text-align: right;\n",
       "    }\n",
       "</style>\n",
       "<table border=\"1\" class=\"dataframe\">\n",
       "  <thead>\n",
       "    <tr style=\"text-align: right;\">\n",
       "      <th></th>\n",
       "      <th>product_id</th>\n",
       "      <th>product_name</th>\n",
       "      <th>brand_id</th>\n",
       "      <th>brand_name</th>\n",
       "      <th>loves_count</th>\n",
       "      <th>rating</th>\n",
       "      <th>reviews</th>\n",
       "      <th>size</th>\n",
       "      <th>variation_type</th>\n",
       "      <th>variation_value</th>\n",
       "      <th>...</th>\n",
       "      <th>online_only</th>\n",
       "      <th>out_of_stock</th>\n",
       "      <th>sephora_exclusive</th>\n",
       "      <th>highlights</th>\n",
       "      <th>primary_category</th>\n",
       "      <th>secondary_category</th>\n",
       "      <th>tertiary_category</th>\n",
       "      <th>child_count</th>\n",
       "      <th>child_max_price</th>\n",
       "      <th>child_min_price</th>\n",
       "    </tr>\n",
       "  </thead>\n",
       "  <tbody>\n",
       "    <tr>\n",
       "      <th>0</th>\n",
       "      <td>P473666</td>\n",
       "      <td>Invisible Post Eau de Parfum</td>\n",
       "      <td>6342</td>\n",
       "      <td>19-69</td>\n",
       "      <td>1542</td>\n",
       "      <td>3.625</td>\n",
       "      <td>8</td>\n",
       "      <td>3.4 oz/ 100 mL</td>\n",
       "      <td>Size + Concentration + Formulation</td>\n",
       "      <td>3.4 oz/ 100 mL</td>\n",
       "      <td>...</td>\n",
       "      <td>1</td>\n",
       "      <td>0</td>\n",
       "      <td>0</td>\n",
       "      <td>['Unisex/ Genderless Scent', 'allure 2022 Best...</td>\n",
       "      <td>Fragrance</td>\n",
       "      <td>Women</td>\n",
       "      <td>Perfume</td>\n",
       "      <td>2</td>\n",
       "      <td>75</td>\n",
       "      <td>30</td>\n",
       "    </tr>\n",
       "    <tr>\n",
       "      <th>1</th>\n",
       "      <td>P472300</td>\n",
       "      <td>Capri Eau de Parfum</td>\n",
       "      <td>6342</td>\n",
       "      <td>19-69</td>\n",
       "      <td>1542</td>\n",
       "      <td>3.5714</td>\n",
       "      <td>7</td>\n",
       "      <td>3.4 oz/ 100 mL</td>\n",
       "      <td>Size + Concentration + Formulation</td>\n",
       "      <td>3.4 oz/ 100 mL Eau de Parfum Spray</td>\n",
       "      <td>...</td>\n",
       "      <td>1</td>\n",
       "      <td>0</td>\n",
       "      <td>0</td>\n",
       "      <td>['Fresh Scent', 'Layerable Scent', 'Unisex/ Ge...</td>\n",
       "      <td>Fragrance</td>\n",
       "      <td>Women</td>\n",
       "      <td>Perfume</td>\n",
       "      <td>2</td>\n",
       "      <td>75</td>\n",
       "      <td>30</td>\n",
       "    </tr>\n",
       "    <tr>\n",
       "      <th>2</th>\n",
       "      <td>P473667</td>\n",
       "      <td>Invisible Post Eau de Parfum Travel Spray</td>\n",
       "      <td>6342</td>\n",
       "      <td>19-69</td>\n",
       "      <td>1377</td>\n",
       "      <td>3.625</td>\n",
       "      <td>8</td>\n",
       "      <td>0.25 oz/ 7.5 mL</td>\n",
       "      <td>Size + Concentration + Formulation</td>\n",
       "      <td>0.25 oz/ 7.5 mL</td>\n",
       "      <td>...</td>\n",
       "      <td>1</td>\n",
       "      <td>0</td>\n",
       "      <td>0</td>\n",
       "      <td>['Unisex/ Genderless Scent', 'allure 2022 Best...</td>\n",
       "      <td>Fragrance</td>\n",
       "      <td>Women</td>\n",
       "      <td>Rollerballs &amp; Travel Size</td>\n",
       "      <td>0</td>\n",
       "      <td>None</td>\n",
       "      <td>None</td>\n",
       "    </tr>\n",
       "    <tr>\n",
       "      <th>3</th>\n",
       "      <td>P473670</td>\n",
       "      <td>Capri Eau de Parfum Travel Spray</td>\n",
       "      <td>6342</td>\n",
       "      <td>19-69</td>\n",
       "      <td>1206</td>\n",
       "      <td>3.5714</td>\n",
       "      <td>7</td>\n",
       "      <td>0.25 oz/ 7.5 mL</td>\n",
       "      <td>Size + Concentration + Formulation</td>\n",
       "      <td>0.25 oz/ 7.5 mL</td>\n",
       "      <td>...</td>\n",
       "      <td>1</td>\n",
       "      <td>0</td>\n",
       "      <td>0</td>\n",
       "      <td>['Unisex/ Genderless Scent', 'Layerable Scent'...</td>\n",
       "      <td>Fragrance</td>\n",
       "      <td>Women</td>\n",
       "      <td>Rollerballs &amp; Travel Size</td>\n",
       "      <td>0</td>\n",
       "      <td>None</td>\n",
       "      <td>None</td>\n",
       "    </tr>\n",
       "    <tr>\n",
       "      <th>4</th>\n",
       "      <td>P473664</td>\n",
       "      <td>L'air Barbes Eau de Parfum</td>\n",
       "      <td>6342</td>\n",
       "      <td>19-69</td>\n",
       "      <td>981</td>\n",
       "      <td>3</td>\n",
       "      <td>4</td>\n",
       "      <td>3.4 oz/ 100 mL</td>\n",
       "      <td>Size + Concentration + Formulation</td>\n",
       "      <td>3.4 oz/ 100 mL Eau de Parfum Spray</td>\n",
       "      <td>...</td>\n",
       "      <td>1</td>\n",
       "      <td>0</td>\n",
       "      <td>0</td>\n",
       "      <td>['Fresh Scent', 'Unisex/ Genderless Scent', 'L...</td>\n",
       "      <td>Fragrance</td>\n",
       "      <td>Women</td>\n",
       "      <td>Perfume</td>\n",
       "      <td>2</td>\n",
       "      <td>75</td>\n",
       "      <td>30</td>\n",
       "    </tr>\n",
       "  </tbody>\n",
       "</table>\n",
       "<p>5 rows × 27 columns</p>\n",
       "</div>"
      ],
      "text/plain": [
       "  product_id                               product_name brand_id brand_name  \\\n",
       "0    P473666               Invisible Post Eau de Parfum     6342      19-69   \n",
       "1    P472300                        Capri Eau de Parfum     6342      19-69   \n",
       "2    P473667  Invisible Post Eau de Parfum Travel Spray     6342      19-69   \n",
       "3    P473670           Capri Eau de Parfum Travel Spray     6342      19-69   \n",
       "4    P473664                 L'air Barbes Eau de Parfum     6342      19-69   \n",
       "\n",
       "  loves_count  rating reviews             size  \\\n",
       "0        1542   3.625       8   3.4 oz/ 100 mL   \n",
       "1        1542  3.5714       7   3.4 oz/ 100 mL   \n",
       "2        1377   3.625       8  0.25 oz/ 7.5 mL   \n",
       "3        1206  3.5714       7  0.25 oz/ 7.5 mL   \n",
       "4         981       3       4   3.4 oz/ 100 mL   \n",
       "\n",
       "                       variation_type                     variation_value  \\\n",
       "0  Size + Concentration + Formulation                      3.4 oz/ 100 mL   \n",
       "1  Size + Concentration + Formulation  3.4 oz/ 100 mL Eau de Parfum Spray   \n",
       "2  Size + Concentration + Formulation                     0.25 oz/ 7.5 mL   \n",
       "3  Size + Concentration + Formulation                     0.25 oz/ 7.5 mL   \n",
       "4  Size + Concentration + Formulation  3.4 oz/ 100 mL Eau de Parfum Spray   \n",
       "\n",
       "   ... online_only out_of_stock sephora_exclusive  \\\n",
       "0  ...           1            0                 0   \n",
       "1  ...           1            0                 0   \n",
       "2  ...           1            0                 0   \n",
       "3  ...           1            0                 0   \n",
       "4  ...           1            0                 0   \n",
       "\n",
       "                                          highlights primary_category  \\\n",
       "0  ['Unisex/ Genderless Scent', 'allure 2022 Best...        Fragrance   \n",
       "1  ['Fresh Scent', 'Layerable Scent', 'Unisex/ Ge...        Fragrance   \n",
       "2  ['Unisex/ Genderless Scent', 'allure 2022 Best...        Fragrance   \n",
       "3  ['Unisex/ Genderless Scent', 'Layerable Scent'...        Fragrance   \n",
       "4  ['Fresh Scent', 'Unisex/ Genderless Scent', 'L...        Fragrance   \n",
       "\n",
       "  secondary_category          tertiary_category child_count child_max_price  \\\n",
       "0              Women                    Perfume           2              75   \n",
       "1              Women                    Perfume           2              75   \n",
       "2              Women  Rollerballs & Travel Size           0            None   \n",
       "3              Women  Rollerballs & Travel Size           0            None   \n",
       "4              Women                    Perfume           2              75   \n",
       "\n",
       "  child_min_price  \n",
       "0              30  \n",
       "1              30  \n",
       "2            None  \n",
       "3            None  \n",
       "4              30  \n",
       "\n",
       "[5 rows x 27 columns]"
      ]
     },
     "execution_count": 8,
     "metadata": {},
     "output_type": "execute_result"
    }
   ],
   "source": [
    "df.filter(F.col('reviews')<10).limit(5).toPandas()\n",
    "\n",
    "#### Alternate Method\n",
    "\n",
    "# df.filter(F.col('reviews')<10).show(5)\n",
    "\n",
    "#### Alternate Method\n",
    "\n",
    "# df.filter(\"reviews<10\").limit(5).toPandas()\n",
    "\n",
    "#### Alternate Method\n",
    "\n",
    "# df.createOrReplaceTempView(\"df_table\")\n",
    "# df_filtered = spark.sql(\"select * from df_table where reviews<10\")\n",
    "# spark.catalog.dropTempView(\"df_table\")  # To remove the temp view if not required further\n",
    "# df_filtered.limit(5).toPandas()"
   ]
  },
  {
   "cell_type": "markdown",
   "metadata": {},
   "source": [
    "# Filtering dataframe based on multiple columns"
   ]
  },
  {
   "cell_type": "code",
   "execution_count": null,
   "metadata": {},
   "outputs": [],
   "source": []
  },
  {
   "cell_type": "code",
   "execution_count": null,
   "metadata": {},
   "outputs": [],
   "source": [
    "# Sorting a column"
   ]
  },
  {
   "cell_type": "code",
   "execution_count": null,
   "metadata": {},
   "outputs": [],
   "source": []
  },
  {
   "cell_type": "code",
   "execution_count": null,
   "metadata": {},
   "outputs": [],
   "source": [
    "# Sorting multiple columns"
   ]
  },
  {
   "cell_type": "code",
   "execution_count": null,
   "metadata": {},
   "outputs": [],
   "source": []
  },
  {
   "cell_type": "code",
   "execution_count": null,
   "metadata": {},
   "outputs": [],
   "source": [
    "# Filter Dataframe"
   ]
  },
  {
   "cell_type": "code",
   "execution_count": null,
   "metadata": {},
   "outputs": [],
   "source": []
  },
  {
   "cell_type": "code",
   "execution_count": null,
   "metadata": {},
   "outputs": [],
   "source": [
    "# Filter Dataframe"
   ]
  },
  {
   "cell_type": "code",
   "execution_count": null,
   "metadata": {},
   "outputs": [],
   "source": []
  },
  {
   "cell_type": "code",
   "execution_count": null,
   "metadata": {},
   "outputs": [],
   "source": [
    "# Filter Dataframe"
   ]
  },
  {
   "cell_type": "code",
   "execution_count": null,
   "metadata": {},
   "outputs": [],
   "source": []
  },
  {
   "cell_type": "code",
   "execution_count": null,
   "metadata": {},
   "outputs": [],
   "source": []
  },
  {
   "cell_type": "code",
   "execution_count": null,
   "metadata": {},
   "outputs": [],
   "source": []
  },
  {
   "cell_type": "code",
   "execution_count": null,
   "metadata": {},
   "outputs": [],
   "source": []
  }
 ],
 "metadata": {
  "kernelspec": {
   "display_name": "base",
   "language": "python",
   "name": "python3"
  },
  "language_info": {
   "codemirror_mode": {
    "name": "ipython",
    "version": 3
   },
   "file_extension": ".py",
   "mimetype": "text/x-python",
   "name": "python",
   "nbconvert_exporter": "python",
   "pygments_lexer": "ipython3",
   "version": "3.8.3"
  },
  "orig_nbformat": 4
 },
 "nbformat": 4,
 "nbformat_minor": 2
}
