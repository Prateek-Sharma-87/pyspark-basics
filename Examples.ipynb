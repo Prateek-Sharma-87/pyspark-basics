{
 "cells": [
  {
   "attachments": {},
   "cell_type": "markdown",
   "metadata": {},
   "source": [
    "# Importing Relevant Libraries"
   ]
  },
  {
   "cell_type": "code",
   "execution_count": 1,
   "metadata": {},
   "outputs": [],
   "source": [
    "import pyspark\n",
    "from pyspark.sql import SparkSession"
   ]
  },
  {
   "attachments": {},
   "cell_type": "markdown",
   "metadata": {},
   "source": [
    "# Creating a Spark Session"
   ]
  },
  {
   "cell_type": "code",
   "execution_count": 2,
   "metadata": {},
   "outputs": [
    {
     "name": "stdout",
     "output_type": "stream",
     "text": [
      "+-----+\n",
      "|hello|\n",
      "+-----+\n",
      "|spark|\n",
      "+-----+\n",
      "\n"
     ]
    }
   ],
   "source": [
    "spark = SparkSession.builder.getOrCreate()\n",
    "\n",
    "# \n",
    "df = spark.sql(\"select 'spark' as hello \")\n",
    "df.show()"
   ]
  },
  {
   "attachments": {},
   "cell_type": "markdown",
   "metadata": {},
   "source": [
    "# Reading a CSV File with Headers"
   ]
  },
  {
   "cell_type": "code",
   "execution_count": 15,
   "metadata": {},
   "outputs": [
    {
     "name": "stdout",
     "output_type": "stream",
     "text": [
      "+----------+--------------------+--------+----------+-----------+------+-------+---------------+--------------------+--------------------+--------------+--------------------+---------+---------------+--------------+---------------+---+-----------+------------+-----------------+--------------------+----------------+------------------+--------------------+-----------+---------------+---------------+\n",
      "|product_id|        product_name|brand_id|brand_name|loves_count|rating|reviews|           size|      variation_type|     variation_value|variation_desc|         ingredients|price_usd|value_price_usd|sale_price_usd|limited_edition|new|online_only|out_of_stock|sephora_exclusive|          highlights|primary_category|secondary_category|   tertiary_category|child_count|child_max_price|child_min_price|\n",
      "+----------+--------------------+--------+----------+-----------+------+-------+---------------+--------------------+--------------------+--------------+--------------------+---------+---------------+--------------+---------------+---+-----------+------------+-----------------+--------------------+----------------+------------------+--------------------+-----------+---------------+---------------+\n",
      "|   P473671|Fragrance Discove...|    6342|     19-69|       6320|3.6364|     11|           null|                null|                null|          null|['Capri Eau de Pa...|       35|           null|          null|              0|  0|          1|           0|                0|['Unisex/ Genderl...|       Fragrance| Value & Gift Sets|   Perfume Gift Sets|          0|           null|           null|\n",
      "|   P473668|La Habana Eau de ...|    6342|     19-69|       3827|4.1538|     13| 3.4 oz/ 100 mL|Size + Concentrat...|      3.4 oz/ 100 mL|          null|['Alcohol Denat. ...|      195|           null|          null|              0|  0|          1|           0|                0|['Unisex/ Genderl...|       Fragrance|             Women|             Perfume|          2|             85|             30|\n",
      "|   P473662|Rainbow Bar Eau d...|    6342|     19-69|       3253|  4.25|     16| 3.4 oz/ 100 mL|Size + Concentrat...|      3.4 oz/ 100 mL|          null|['Alcohol Denat. ...|      195|           null|          null|              0|  0|          1|           0|                0|['Unisex/ Genderl...|       Fragrance|             Women|             Perfume|          2|             75|             30|\n",
      "|   P473660|Kasbah Eau de Parfum|    6342|     19-69|       3018|4.4762|     21| 3.4 oz/ 100 mL|Size + Concentrat...|      3.4 oz/ 100 mL|          null|['Alcohol Denat. ...|      195|           null|          null|              0|  0|          1|           0|                0|['Unisex/ Genderl...|       Fragrance|             Women|             Perfume|          2|             75|             30|\n",
      "|   P473658|Purple Haze Eau d...|    6342|     19-69|       2691|3.2308|     13| 3.4 oz/ 100 mL|Size + Concentrat...|      3.4 oz/ 100 mL|          null|['Alcohol Denat. ...|      195|           null|          null|              0|  0|          1|           0|                0|['Unisex/ Genderl...|       Fragrance|             Women|             Perfume|          2|             75|             30|\n",
      "|   P473661|Kasbah Eau de Par...|    6342|     19-69|       2448|4.4762|     21|0.25 oz/ 7.5 mL|Size + Concentrat...|0.25 oz/ 7.5 mL E...|          null|['Alcohol Denat. ...|       30|           null|          null|              0|  0|          1|           0|                0|['Warm &Spicy Sce...|       Fragrance|             Women|Rollerballs & Tra...|          0|           null|           null|\n",
      "|   P473659|Purple Haze Eau d...|    6342|     19-69|       1619|3.2308|     13|0.25 oz/ 7.5 mL|Size + Concentrat...|     0.25 oz/ 7.5 mL|          null|['Alcohol Denat. ...|       30|           null|          null|              0|  0|          1|           0|                0|['Unisex/ Genderl...|       Fragrance|             Women|Rollerballs & Tra...|          0|           null|           null|\n",
      "|   P473666|Invisible Post Ea...|    6342|     19-69|       1542| 3.625|      8| 3.4 oz/ 100 mL|Size + Concentrat...|      3.4 oz/ 100 mL|          null|['Alcohol Denat. ...|      195|           null|          null|              0|  0|          1|           0|                0|['Unisex/ Genderl...|       Fragrance|             Women|             Perfume|          2|             75|             30|\n",
      "|   P472300| Capri Eau de Parfum|    6342|     19-69|       1542|3.5714|      7| 3.4 oz/ 100 mL|Size + Concentrat...|3.4 oz/ 100 mL Ea...|          null|['Alcohol Denat. ...|      195|           null|          null|              0|  0|          1|           0|                0|['Fresh Scent', '...|       Fragrance|             Women|             Perfume|          2|             75|             30|\n",
      "|   P473667|Invisible Post Ea...|    6342|     19-69|       1377| 3.625|      8|0.25 oz/ 7.5 mL|Size + Concentrat...|     0.25 oz/ 7.5 mL|          null|['Alcohol Denat. ...|       30|           null|          null|              0|  0|          1|           0|                0|['Unisex/ Genderl...|       Fragrance|             Women|Rollerballs & Tra...|          0|           null|           null|\n",
      "|   P473663|Rainbow Bar Eau d...|    6342|     19-69|       1371|  4.25|     16|0.25 oz/ 7.5 mL|Size + Concentrat...|     0.25 oz/ 7.5 mL|          null|['Alcohol Denat. ...|       30|           null|          null|              0|  0|          1|           0|                0|['Unisex/ Genderl...|       Fragrance|             Women|Rollerballs & Tra...|          0|           null|           null|\n",
      "|   P473670|Capri Eau de Parf...|    6342|     19-69|       1206|3.5714|      7|0.25 oz/ 7.5 mL|Size + Concentrat...|     0.25 oz/ 7.5 mL|          null|['Alcohol Denat. ...|       30|           null|          null|              0|  0|          1|           0|                0|['Unisex/ Genderl...|       Fragrance|             Women|Rollerballs & Tra...|          0|           null|           null|\n",
      "|   P473664|L'air Barbes Eau ...|    6342|     19-69|        981|     3|      4| 3.4 oz/ 100 mL|Size + Concentrat...|3.4 oz/ 100 mL Ea...|          null|['Alcohol Denat. ...|      195|           null|          null|              0|  0|          1|           0|                0|['Fresh Scent', '...|       Fragrance|             Women|             Perfume|          2|             75|             30|\n",
      "|   P473665|L'air Barbes Eau ...|    6342|     19-69|        721|     3|      4|0.25 oz/ 7.5 mL|Size + Concentrat...|     0.25 oz/ 7.5 mL|          null|['Alcohol Denat. ...|       30|           null|          null|              0|  0|          1|           0|                0|['Unisex/ Genderl...|       Fragrance|             Women|Rollerballs & Tra...|          0|           null|           null|\n",
      "|   P476416|AFRICAN Beauty Bu...|    6471|54 Thrones|      19028|4.3256|    258|  6 oz / 180 mL|               Scent|Ugandan Vanilla +...|          null|['Butyrospermum P...|       38|           null|          null|              0|  0|          1|           0|                0|['Clean at Sephor...|     Bath & Body| Body Moisturizers|Body Lotions & Bo...|         10|             38|             12|\n",
      "|   P476418|African Beauty Bu...|    6471|54 Thrones|       7526| 3.561|     41|           null|                null|                null|          null|['Egyptian Lavend...|       29|             42|          null|              0|  0|          1|           1|                1|['Good for: Dryne...|     Bath & Body| Value & Gift Sets|                null|          0|           null|           null|\n",
      "|   P476417|African Beauty Bu...|    6471|54 Thrones|       3741|4.2273|     22|           null|                null|                null|          null|['Egyptian Lavend...|       80|            120|          null|              0|  0|          1|           0|                0|['Good for: Dryne...|     Bath & Body| Value & Gift Sets|                null|          0|           null|           null|\n",
      "|   P503832|Mini AFRICAN Beau...|    6471|54 Thrones|       3392|4.5175|    143|   1 oz / 30 mL|               Scent|Ugandan Vanilla a...|          null|['Butyrospermum P...|       12|           null|          null|              0|  1|          1|           1|                0|['Clean at Sephor...|     Bath & Body| Body Moisturizers|Body Lotions & Bo...|          2|             12|             12|\n",
      "|   P483068|  ABBOTT Sampler Set|    6485|    ABBOTT|       4493|4.8163|     49|           null|                null|                null|          null|['Big Sky:', 'Wat...|       26|           null|          null|              0|  0|          0|           1|                0|['Vegan', 'Woody ...|       Fragrance| Value & Gift Sets|   Perfume Gift Sets|          0|           null|           null|\n",
      "|   P483139|    The Cape Perfume|    6485|    ABBOTT|       3118|4.6111|     18| 1.7 oz / 50 mL|Size + Concentrat...|1.7 oz / 50 mL ea...|          null|['Water, Denature...|       84|           null|          null|              0|  0|          1|           0|                0|['Clean + Planet ...|       Fragrance|             Women|             Perfume|          1|             29|             29|\n",
      "+----------+--------------------+--------+----------+-----------+------+-------+---------------+--------------------+--------------------+--------------+--------------------+---------+---------------+--------------+---------------+---+-----------+------------+-----------------+--------------------+----------------+------------------+--------------------+-----------+---------------+---------------+\n",
      "only showing top 20 rows\n",
      "\n"
     ]
    }
   ],
   "source": [
    "df = spark.read.format(\"csv\").option(\"header\", \"true\").load(\"product_info_sephora.csv\")\n",
    "# df = spark.read.option(\"header\", \"true\").csv(\"product_info_sephora.csv\") # Alternate Method\n",
    "df.show()"
   ]
  },
  {
   "cell_type": "code",
   "execution_count": 11,
   "metadata": {},
   "outputs": [
    {
     "data": {
      "text/plain": [
       "11"
      ]
     },
     "execution_count": 11,
     "metadata": {},
     "output_type": "execute_result"
    }
   ],
   "source": [
    "len(df.columns)"
   ]
  },
  {
   "cell_type": "code",
   "execution_count": 12,
   "metadata": {},
   "outputs": [
    {
     "data": {
      "text/plain": [
       "6264239"
      ]
     },
     "execution_count": 12,
     "metadata": {},
     "output_type": "execute_result"
    }
   ],
   "source": [
    "df.count()"
   ]
  },
  {
   "cell_type": "code",
   "execution_count": 13,
   "metadata": {},
   "outputs": [
    {
     "data": {
      "text/html": [
       "<div>\n",
       "<style scoped>\n",
       "    .dataframe tbody tr th:only-of-type {\n",
       "        vertical-align: middle;\n",
       "    }\n",
       "\n",
       "    .dataframe tbody tr th {\n",
       "        vertical-align: top;\n",
       "    }\n",
       "\n",
       "    .dataframe thead th {\n",
       "        text-align: right;\n",
       "    }\n",
       "</style>\n",
       "<table border=\"1\" class=\"dataframe\">\n",
       "  <thead>\n",
       "    <tr style=\"text-align: right;\">\n",
       "      <th></th>\n",
       "      <th>_c0</th>\n",
       "      <th>_c1</th>\n",
       "      <th>_c2</th>\n",
       "      <th>_c3</th>\n",
       "      <th>_c4</th>\n",
       "      <th>_c5</th>\n",
       "      <th>_c6</th>\n",
       "      <th>_c7</th>\n",
       "      <th>_c8</th>\n",
       "      <th>_c9</th>\n",
       "      <th>_c10</th>\n",
       "    </tr>\n",
       "  </thead>\n",
       "  <tbody>\n",
       "    <tr>\n",
       "      <th>0</th>\n",
       "      <td>id</td>\n",
       "      <td>name</td>\n",
       "      <td>img</td>\n",
       "      <td>asin</td>\n",
       "      <td>price</td>\n",
       "      <td>mrp</td>\n",
       "      <td>rating</td>\n",
       "      <td>ratingTotal</td>\n",
       "      <td>discount</td>\n",
       "      <td>seller</td>\n",
       "      <td>purl</td>\n",
       "    </tr>\n",
       "    <tr>\n",
       "      <th>1</th>\n",
       "      <td>1</td>\n",
       "      <td>Men Solid Oversized Cotton</td>\n",
       "      <td>https://assets.myntassets.com/f_webp,dpr_1.0,q...</td>\n",
       "      <td>None</td>\n",
       "      <td>None</td>\n",
       "      <td>None</td>\n",
       "      <td>None</td>\n",
       "      <td>None</td>\n",
       "      <td>None</td>\n",
       "      <td>None</td>\n",
       "      <td>None</td>\n",
       "    </tr>\n",
       "    <tr>\n",
       "      <th>2</th>\n",
       "      <td>https://assets.myntassets.com/f_webp</td>\n",
       "      <td>dpr_1.8</td>\n",
       "      <td>q_60</td>\n",
       "      <td>w_210</td>\n",
       "      <td>c_limit</td>\n",
       "      <td>fl_progressive/assets/images/16407468/2021/12/...</td>\n",
       "      <td>None</td>\n",
       "      <td>None</td>\n",
       "      <td>None</td>\n",
       "      <td>None</td>\n",
       "      <td>None</td>\n",
       "    </tr>\n",
       "    <tr>\n",
       "      <th>3</th>\n",
       "      <td>https://assets.myntassets.com/f_webp</td>\n",
       "      <td>dpr_2.0</td>\n",
       "      <td>q_60</td>\n",
       "      <td>w_210</td>\n",
       "      <td>c_limit</td>\n",
       "      <td>fl_progressive/assets/images/16407468/2021/12/...</td>\n",
       "      <td>None</td>\n",
       "      <td>None</td>\n",
       "      <td>None</td>\n",
       "      <td>None</td>\n",
       "      <td>None</td>\n",
       "    </tr>\n",
       "    <tr>\n",
       "      <th>4</th>\n",
       "      <td>https://assets.myntassets.com/f_webp</td>\n",
       "      <td>dpr_2.2</td>\n",
       "      <td>q_60</td>\n",
       "      <td>w_210</td>\n",
       "      <td>c_limit</td>\n",
       "      <td>fl_progressive/assets/images/16407468/2021/12/...</td>\n",
       "      <td>None</td>\n",
       "      <td>None</td>\n",
       "      <td>None</td>\n",
       "      <td>None</td>\n",
       "      <td>None</td>\n",
       "    </tr>\n",
       "    <tr>\n",
       "      <th>5</th>\n",
       "      <td>https://assets.myntassets.com/f_webp</td>\n",
       "      <td>dpr_2.4</td>\n",
       "      <td>q_60</td>\n",
       "      <td>w_210</td>\n",
       "      <td>c_limit</td>\n",
       "      <td>fl_progressive/assets/images/16407468/2021/12/...</td>\n",
       "      <td>None</td>\n",
       "      <td>None</td>\n",
       "      <td>None</td>\n",
       "      <td>None</td>\n",
       "      <td>None</td>\n",
       "    </tr>\n",
       "    <tr>\n",
       "      <th>6</th>\n",
       "      <td>https://assets.myntassets.com/f_webp</td>\n",
       "      <td>dpr_2.6</td>\n",
       "      <td>q_60</td>\n",
       "      <td>w_210</td>\n",
       "      <td>c_limit</td>\n",
       "      <td>fl_progressive/assets/images/16407468/2021/12/...</td>\n",
       "      <td>None</td>\n",
       "      <td>None</td>\n",
       "      <td>None</td>\n",
       "      <td>None</td>\n",
       "      <td>None</td>\n",
       "    </tr>\n",
       "    <tr>\n",
       "      <th>7</th>\n",
       "      <td>https://assets.myntassets.com/f_webp</td>\n",
       "      <td>dpr_2.8</td>\n",
       "      <td>q_60</td>\n",
       "      <td>w_210</td>\n",
       "      <td>c_limit</td>\n",
       "      <td>fl_progressive/assets/images/16407468/2021/12/...</td>\n",
       "      <td>-</td>\n",
       "      <td>532</td>\n",
       "      <td>1299</td>\n",
       "      <td>4.1</td>\n",
       "      <td>5300</td>\n",
       "    </tr>\n",
       "    <tr>\n",
       "      <th>8</th>\n",
       "      <td>2</td>\n",
       "      <td>Men Cotton Pure Cotton T-shirt</td>\n",
       "      <td>https://assets.myntassets.com/f_webp,dpr_1.0,q...</td>\n",
       "      <td>None</td>\n",
       "      <td>None</td>\n",
       "      <td>None</td>\n",
       "      <td>None</td>\n",
       "      <td>None</td>\n",
       "      <td>None</td>\n",
       "      <td>None</td>\n",
       "      <td>None</td>\n",
       "    </tr>\n",
       "    <tr>\n",
       "      <th>9</th>\n",
       "      <td>https://assets.myntassets.com/f_webp</td>\n",
       "      <td>dpr_1.8</td>\n",
       "      <td>q_60</td>\n",
       "      <td>w_210</td>\n",
       "      <td>c_limit</td>\n",
       "      <td>fl_progressive/assets/images/1996777/2022/11/2...</td>\n",
       "      <td>None</td>\n",
       "      <td>None</td>\n",
       "      <td>None</td>\n",
       "      <td>None</td>\n",
       "      <td>None</td>\n",
       "    </tr>\n",
       "  </tbody>\n",
       "</table>\n",
       "</div>"
      ],
      "text/plain": [
       "                                    _c0                             _c1  \\\n",
       "0                                    id                            name   \n",
       "1                                     1      Men Solid Oversized Cotton   \n",
       "2  https://assets.myntassets.com/f_webp                         dpr_1.8   \n",
       "3  https://assets.myntassets.com/f_webp                         dpr_2.0   \n",
       "4  https://assets.myntassets.com/f_webp                         dpr_2.2   \n",
       "5  https://assets.myntassets.com/f_webp                         dpr_2.4   \n",
       "6  https://assets.myntassets.com/f_webp                         dpr_2.6   \n",
       "7  https://assets.myntassets.com/f_webp                         dpr_2.8   \n",
       "8                                     2  Men Cotton Pure Cotton T-shirt   \n",
       "9  https://assets.myntassets.com/f_webp                         dpr_1.8   \n",
       "\n",
       "                                                 _c2    _c3      _c4  \\\n",
       "0                                                img   asin    price   \n",
       "1  https://assets.myntassets.com/f_webp,dpr_1.0,q...   None     None   \n",
       "2                                               q_60  w_210  c_limit   \n",
       "3                                               q_60  w_210  c_limit   \n",
       "4                                               q_60  w_210  c_limit   \n",
       "5                                               q_60  w_210  c_limit   \n",
       "6                                               q_60  w_210  c_limit   \n",
       "7                                               q_60  w_210  c_limit   \n",
       "8  https://assets.myntassets.com/f_webp,dpr_1.0,q...   None     None   \n",
       "9                                               q_60  w_210  c_limit   \n",
       "\n",
       "                                                 _c5     _c6          _c7  \\\n",
       "0                                                mrp  rating  ratingTotal   \n",
       "1                                               None    None         None   \n",
       "2  fl_progressive/assets/images/16407468/2021/12/...    None         None   \n",
       "3  fl_progressive/assets/images/16407468/2021/12/...    None         None   \n",
       "4  fl_progressive/assets/images/16407468/2021/12/...    None         None   \n",
       "5  fl_progressive/assets/images/16407468/2021/12/...    None         None   \n",
       "6  fl_progressive/assets/images/16407468/2021/12/...    None         None   \n",
       "7  fl_progressive/assets/images/16407468/2021/12/...       -          532   \n",
       "8                                               None    None         None   \n",
       "9  fl_progressive/assets/images/1996777/2022/11/2...    None         None   \n",
       "\n",
       "        _c8     _c9  _c10  \n",
       "0  discount  seller  purl  \n",
       "1      None    None  None  \n",
       "2      None    None  None  \n",
       "3      None    None  None  \n",
       "4      None    None  None  \n",
       "5      None    None  None  \n",
       "6      None    None  None  \n",
       "7      1299     4.1  5300  \n",
       "8      None    None  None  \n",
       "9      None    None  None  "
      ]
     },
     "execution_count": 13,
     "metadata": {},
     "output_type": "execute_result"
    }
   ],
   "source": [
    "df.limit(10).toPandas()"
   ]
  },
  {
   "cell_type": "code",
   "execution_count": null,
   "metadata": {},
   "outputs": [],
   "source": []
  }
 ],
 "metadata": {
  "kernelspec": {
   "display_name": "base",
   "language": "python",
   "name": "python3"
  },
  "language_info": {
   "codemirror_mode": {
    "name": "ipython",
    "version": 3
   },
   "file_extension": ".py",
   "mimetype": "text/x-python",
   "name": "python",
   "nbconvert_exporter": "python",
   "pygments_lexer": "ipython3",
   "version": "3.8.3"
  },
  "orig_nbformat": 4
 },
 "nbformat": 4,
 "nbformat_minor": 2
}
